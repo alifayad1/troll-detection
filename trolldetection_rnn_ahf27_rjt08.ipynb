{
  "nbformat": 4,
  "nbformat_minor": 0,
  "metadata": {
    "kernelspec": {
      "display_name": "Python 3",
      "language": "python",
      "name": "python3"
    },
    "language_info": {
      "codemirror_mode": {
        "name": "ipython",
        "version": 3
      },
      "file_extension": ".py",
      "mimetype": "text/x-python",
      "name": "python",
      "nbconvert_exporter": "python",
      "pygments_lexer": "ipython3",
      "version": "3.7.4"
    },
    "colab": {
      "name": "trolldetection_rnn_ahf27_rjt08.ipynb",
      "provenance": [],
      "toc_visible": true
    },
    "accelerator": "GPU"
  },
  "cells": [
    {
      "cell_type": "markdown",
      "metadata": {
        "id": "gC-R1hHKACKy",
        "colab_type": "text"
      },
      "source": [
        "### All don't run cells are data cleaning and file merging, which are time consuming and will cause logical error if ran again"
      ]
    },
    {
      "cell_type": "code",
      "metadata": {
        "id": "K0-s69nMACKz",
        "colab_type": "code",
        "outputId": "9f99bf0c-1a28-47f7-ea6c-2a23b7bf9e85",
        "colab": {
          "base_uri": "https://localhost:8080/",
          "height": 33
        }
      },
      "source": [
        "%matplotlib inline\n",
        "import nltk\n",
        "import sklearn\n",
        "import keras\n",
        "import pandas as pd\n",
        "import numpy as np \n",
        "import warnings \n",
        "import pickle\n",
        "from sklearn.linear_model import LogisticRegression\n",
        "from sklearn.model_selection import GridSearchCV, cross_val_predict\n",
        "from sklearn.metrics import f1_score, accuracy_score\n",
        "from sklearn.feature_extraction.text import TfidfVectorizer\n",
        "from sklearn.model_selection import train_test_split\n",
        "from sklearn.preprocessing import LabelEncoder,OneHotEncoder \n",
        "from nltk.corpus import stopwords\n",
        "from nltk.stem import PorterStemmer\n",
        "import matplotlib.pyplot as plt\n",
        "from sklearn.model_selection import train_test_split, ShuffleSplit, learning_curve\n",
        "import matplotlib.pyplot as plt\n",
        "import glob\n",
        "import os\n",
        "from nltk.corpus import stopwords\n",
        "from nltk.stem import PorterStemmer, WordNetLemmatizer\n",
        "import inflect\n",
        "import re, string, unicodedata\n",
        "from bs4 import BeautifulSoup\n",
        "from sklearn.linear_model import RidgeClassifier\n",
        "from sklearn.model_selection import learning_curve\n",
        "from sklearn import preprocessing\n",
        "import pickle\n",
        "from sklearn.linear_model import Ridge\n",
        "from sklearn.model_selection import GridSearchCV\n",
        "from string import punctuation \n",
        "from nltk.corpus import stopwords\n",
        "from sklearn.metrics import accuracy_score\n",
        "from sklearn.metrics import f1_score"
      ],
      "execution_count": 1,
      "outputs": [
        {
          "output_type": "stream",
          "text": [
            "Using TensorFlow backend.\n"
          ],
          "name": "stderr"
        }
      ]
    },
    {
      "cell_type": "markdown",
      "metadata": {
        "id": "n1vgDcxBACK3",
        "colab_type": "text"
      },
      "source": [
        "### Merging troll tweets; don't run if already merged"
      ]
    },
    {
      "cell_type": "code",
      "metadata": {
        "id": "tsIW9ZrxACK3",
        "colab_type": "code",
        "colab": {}
      },
      "source": [
        "os.chdir(\"C:\\\\Users\\\\afy36\\\\Desktop\\\\cmps 287\\\\project\\\\troll_raw\")\n",
        "extension = 'csv'\n",
        "all_filenames = [i for i in glob.glob('*.{}'.format(extension))]\n",
        "combined_csv = pd.concat([pd.read_csv(f) for f in all_filenames ])\n",
        "combined_csv.to_csv( \"merged_tweets.csv\", index=False, encoding='utf-8-sig')"
      ],
      "execution_count": 0,
      "outputs": []
    },
    {
      "cell_type": "markdown",
      "metadata": {
        "id": "QJbbLqIVACK6",
        "colab_type": "text"
      },
      "source": [
        "### Getting english tweets and removing unnecessary columns (don't run if only content and label header)"
      ]
    },
    {
      "cell_type": "code",
      "metadata": {
        "id": "n5Du42lNACK6",
        "colab_type": "code",
        "colab": {}
      },
      "source": [
        "#dropping unnecessary info to reduce size\n",
        "data = pd.read_csv('C:\\\\Users\\\\afy36\\\\Desktop\\\\cmps 287\\\\project\\\\merged_tweets.csv', encoding='iso-8859-1')\n",
        "new_clean = data.drop(data.loc[:, 'region':'tco3_step1'].columns, axis = 1)\n",
        "# getting the english tweets only\n",
        "l = data[\"language\"]== \"English\" \n",
        "new_clean = new_clean[l]\n",
        "new_clean.to_csv (r'russian_tweets.csv', index = False, header=True)"
      ],
      "execution_count": 0,
      "outputs": []
    },
    {
      "cell_type": "markdown",
      "metadata": {
        "id": "ailZw3IUACK8",
        "colab_type": "text"
      },
      "source": [
        ""
      ]
    },
    {
      "cell_type": "markdown",
      "metadata": {
        "id": "nt16MDpXACK9",
        "colab_type": "text"
      },
      "source": [
        "### Fixing file format for later merge with non-troll data (don't run if correct format)"
      ]
    },
    {
      "cell_type": "code",
      "metadata": {
        "scrolled": true,
        "id": "tNs2zBjaACK9",
        "colab_type": "code",
        "colab": {}
      },
      "source": [
        "data = pd.read_csv('C:\\\\Users\\\\afy36\\\\Desktop\\\\cmps 287\\\\project\\\\russian_tweets.csv', encoding='iso-8859-1')\n",
        "new_clean_file = data.drop(data.loc[:, 'external_author_id':'author'].columns, axis = 1)\n",
        "new_clean_file"
      ],
      "execution_count": 0,
      "outputs": []
    },
    {
      "cell_type": "code",
      "metadata": {
        "id": "D4pOGEdxACK_",
        "colab_type": "code",
        "colab": {}
      },
      "source": [
        "new_clean_file['label'] = \"troll\"\n",
        "new_clean_file.to_csv (r'russian_tweets.csv', index = False, header=True)\n",
        "new_clean_file"
      ],
      "execution_count": 0,
      "outputs": []
    },
    {
      "cell_type": "markdown",
      "metadata": {
        "id": "lUGBceN1ACLB",
        "colab_type": "text"
      },
      "source": [
        "### Labeling non-troll set; don't run"
      ]
    },
    {
      "cell_type": "code",
      "metadata": {
        "id": "Ri-brlqkACLC",
        "colab_type": "code",
        "colab": {}
      },
      "source": [
        "import csv\n",
        "data_nontroll = pd.read_csv('C:\\\\Users\\\\afy36\\\\Desktop\\\\cmps 287\\\\project\\\\non_troll.csv', encoding='iso-8859-1',nrows=100000)\n",
        "#set label\n",
        "data_nontroll[\"label\"] = \"non-troll\"\n",
        "data_nontroll.to_csv (r'non_troll.csv', index = False, header=True)\n",
        "print(data_nontroll)\n",
        "\n",
        "data_troll = pd.read_csv('C:\\\\Users\\\\afy36\\\\Desktop\\\\cmps 287\\\\project\\\\russian_tweets.csv', encoding='iso-8859-1',nrows=250000)\n",
        "data_troll[\"label\"] = \"troll\"\n",
        "data_troll.to_csv (r'labeled_russian_tweets.csv', index = False, header=True)\n",
        "print(data_troll)\n"
      ],
      "execution_count": 0,
      "outputs": []
    },
    {
      "cell_type": "markdown",
      "metadata": {
        "id": "ij63L_9BACLE",
        "colab_type": "text"
      },
      "source": [
        "### Creating Final dataset to be used; Don't run "
      ]
    },
    {
      "cell_type": "code",
      "metadata": {
        "id": "GjCaRLMNACLG",
        "colab_type": "code",
        "colab": {}
      },
      "source": [
        "os.chdir(\"C:\\\\Users\\\\afy36\\\\Desktop\\\\cmps 287\\\\project\\\\cleaned_merged_data\")\n",
        "\n",
        "extension = 'csv'\n",
        "all_filenames = [i for i in glob.glob('*.{}'.format(extension))]\n",
        "combined_csv = pd.concat([pd.read_csv(f) for f in all_filenames ])\n",
        "combined_csv.to_csv( \"all_tweets.csv\", index=False, encoding='utf-8-sig')\n",
        "combined_csv"
      ],
      "execution_count": 0,
      "outputs": []
    },
    {
      "cell_type": "markdown",
      "metadata": {
        "id": "U2nnlTY2ACLI",
        "colab_type": "text"
      },
      "source": [
        "## Run this"
      ]
    },
    {
      "cell_type": "code",
      "metadata": {
        "id": "MaHEIRssAX4I",
        "colab_type": "code",
        "outputId": "09b0f060-7bdd-43e2-c335-1d2f688825eb",
        "colab": {
          "base_uri": "https://localhost:8080/",
          "height": 120
        }
      },
      "source": [
        "from google.colab import drive\n",
        "drive.mount('/content/drive')"
      ],
      "execution_count": 2,
      "outputs": [
        {
          "output_type": "stream",
          "text": [
            "Go to this URL in a browser: https://accounts.google.com/o/oauth2/auth?client_id=947318989803-6bn6qk8qdgf4n4g3pfee6491hc0brc4i.apps.googleusercontent.com&redirect_uri=urn%3aietf%3awg%3aoauth%3a2.0%3aoob&response_type=code&scope=email%20https%3a%2f%2fwww.googleapis.com%2fauth%2fdocs.test%20https%3a%2f%2fwww.googleapis.com%2fauth%2fdrive%20https%3a%2f%2fwww.googleapis.com%2fauth%2fdrive.photos.readonly%20https%3a%2f%2fwww.googleapis.com%2fauth%2fpeopleapi.readonly\n",
            "\n",
            "Enter your authorization code:\n",
            "··········\n",
            "Mounted at /content/drive\n"
          ],
          "name": "stdout"
        }
      ]
    },
    {
      "cell_type": "code",
      "metadata": {
        "id": "leZMY0FYACLI",
        "colab_type": "code",
        "outputId": "a9c9ffa9-2f31-4db2-df43-2024f6d6e3db",
        "colab": {
          "base_uri": "https://localhost:8080/",
          "height": 412
        }
      },
      "source": [
        "data = pd.read_csv('/content/drive/My Drive/all_tweets.csv', encoding='utf-8')\n",
        "#### uncomment the following to check success\n",
        "# getting the english tweets only\n",
        "#s = data[\"label\"]== \"troll\" \n",
        "#l = data[\"label\"]== \"non-troll\"\n",
        "#switch comment (s and l) to get non-troll\n",
        "# data = data[l]\n",
        "# data\n",
        "data"
      ],
      "execution_count": 3,
      "outputs": [
        {
          "output_type": "execute_result",
          "data": {
            "text/html": [
              "<div>\n",
              "<style scoped>\n",
              "    .dataframe tbody tr th:only-of-type {\n",
              "        vertical-align: middle;\n",
              "    }\n",
              "\n",
              "    .dataframe tbody tr th {\n",
              "        vertical-align: top;\n",
              "    }\n",
              "\n",
              "    .dataframe thead th {\n",
              "        text-align: right;\n",
              "    }\n",
              "</style>\n",
              "<table border=\"1\" class=\"dataframe\">\n",
              "  <thead>\n",
              "    <tr style=\"text-align: right;\">\n",
              "      <th></th>\n",
              "      <th>content</th>\n",
              "      <th>label</th>\n",
              "    </tr>\n",
              "  </thead>\n",
              "  <tbody>\n",
              "    <tr>\n",
              "      <th>0</th>\n",
              "      <td>\"We have a sitting Democrat US Senator on tria...</td>\n",
              "      <td>troll</td>\n",
              "    </tr>\n",
              "    <tr>\n",
              "      <th>1</th>\n",
              "      <td>Marshawn Lynch arrives to game in anti-Trump s...</td>\n",
              "      <td>troll</td>\n",
              "    </tr>\n",
              "    <tr>\n",
              "      <th>2</th>\n",
              "      <td>Daughter of fallen Navy Sailor delivers powerf...</td>\n",
              "      <td>troll</td>\n",
              "    </tr>\n",
              "    <tr>\n",
              "      <th>3</th>\n",
              "      <td>JUST IN: President Trump dedicates Presidents ...</td>\n",
              "      <td>troll</td>\n",
              "    </tr>\n",
              "    <tr>\n",
              "      <th>4</th>\n",
              "      <td>19,000 RESPECTING our National Anthem! #StandF...</td>\n",
              "      <td>troll</td>\n",
              "    </tr>\n",
              "    <tr>\n",
              "      <th>...</th>\n",
              "      <td>...</td>\n",
              "      <td>...</td>\n",
              "    </tr>\n",
              "    <tr>\n",
              "      <th>349995</th>\n",
              "      <td>looks like my routers broke  more tweets from ...</td>\n",
              "      <td>non-troll</td>\n",
              "    </tr>\n",
              "    <tr>\n",
              "      <th>349996</th>\n",
              "      <td>i really dont want to be in college right now....</td>\n",
              "      <td>non-troll</td>\n",
              "    </tr>\n",
              "    <tr>\n",
              "      <th>349997</th>\n",
              "      <td>@flossa  *offers you pepto*</td>\n",
              "      <td>non-troll</td>\n",
              "    </tr>\n",
              "    <tr>\n",
              "      <th>349998</th>\n",
              "      <td>@JosieHobo I WOULD SOOOOO BE THERE IF I DIDN'T...</td>\n",
              "      <td>non-troll</td>\n",
              "    </tr>\n",
              "    <tr>\n",
              "      <th>349999</th>\n",
              "      <td>OMG, I just moisturised and my legs are BURNIN...</td>\n",
              "      <td>non-troll</td>\n",
              "    </tr>\n",
              "  </tbody>\n",
              "</table>\n",
              "<p>350000 rows × 2 columns</p>\n",
              "</div>"
            ],
            "text/plain": [
              "                                                  content      label\n",
              "0       \"We have a sitting Democrat US Senator on tria...      troll\n",
              "1       Marshawn Lynch arrives to game in anti-Trump s...      troll\n",
              "2       Daughter of fallen Navy Sailor delivers powerf...      troll\n",
              "3       JUST IN: President Trump dedicates Presidents ...      troll\n",
              "4       19,000 RESPECTING our National Anthem! #StandF...      troll\n",
              "...                                                   ...        ...\n",
              "349995  looks like my routers broke  more tweets from ...  non-troll\n",
              "349996  i really dont want to be in college right now....  non-troll\n",
              "349997                        @flossa  *offers you pepto*  non-troll\n",
              "349998  @JosieHobo I WOULD SOOOOO BE THERE IF I DIDN'T...  non-troll\n",
              "349999  OMG, I just moisturised and my legs are BURNIN...  non-troll\n",
              "\n",
              "[350000 rows x 2 columns]"
            ]
          },
          "metadata": {
            "tags": []
          },
          "execution_count": 3
        }
      ]
    },
    {
      "cell_type": "markdown",
      "metadata": {
        "id": "M562i_zIACLK",
        "colab_type": "text"
      },
      "source": [
        "## Don't run"
      ]
    },
    {
      "cell_type": "code",
      "metadata": {
        "id": "qfiWkjPKACLL",
        "colab_type": "code",
        "colab": {}
      },
      "source": [
        "data['content']=data['content'].fillna(\"\")\n",
        "x = data['content']\n",
        "y = data['label']"
      ],
      "execution_count": 0,
      "outputs": []
    },
    {
      "cell_type": "code",
      "metadata": {
        "id": "rrc6vFFmACLN",
        "colab_type": "code",
        "colab": {}
      },
      "source": [
        "np.savetxt('y.txt', y, fmt='%s')"
      ],
      "execution_count": 0,
      "outputs": []
    },
    {
      "cell_type": "code",
      "metadata": {
        "id": "6LIpfWWEACLP",
        "colab_type": "code",
        "outputId": "40224a95-6b54-4719-f41a-c0b213afe8be",
        "colab": {}
      },
      "source": [
        "le = LabelEncoder()\n",
        "y = le.fit_transform(y)\n",
        "print(y)\n",
        "train_x, test_x, train_y, test_y = train_test_split(x, y, test_size=0.10)\n",
        "print(np.shape(test_y))\n",
        "print(np.shape(train_y))\n",
        "print(np.shape(test_x))"
      ],
      "execution_count": 0,
      "outputs": [
        {
          "output_type": "stream",
          "text": [
            "[1 1 1 ... 0 0 0]\n",
            "(35000,)\n",
            "(315000,)\n",
            "(35000,)\n"
          ],
          "name": "stdout"
        }
      ]
    },
    {
      "cell_type": "code",
      "metadata": {
        "id": "1jUSv0eIACLR",
        "colab_type": "code",
        "colab": {}
      },
      "source": [
        "np.savetxt('train_y.txt', train_y, fmt='%s')\n",
        "np.savetxt('test_y.txt', test_y, fmt='%s')\n",
        "\n"
      ],
      "execution_count": 0,
      "outputs": []
    },
    {
      "cell_type": "markdown",
      "metadata": {
        "id": "HakMGCSqACLT",
        "colab_type": "text"
      },
      "source": [
        "### Preprocessing text"
      ]
    },
    {
      "cell_type": "markdown",
      "metadata": {
        "id": "lcSza6YcACLT",
        "colab_type": "text"
      },
      "source": [
        "Preprocessing was done separately for each set in steps as doing it in one crashes our laptops"
      ]
    },
    {
      "cell_type": "markdown",
      "metadata": {
        "id": "fjPQvhGBACLU",
        "colab_type": "text"
      },
      "source": [
        "Don't rerun just look at result in files"
      ]
    },
    {
      "cell_type": "code",
      "metadata": {
        "id": "z-6GC7TkACLU",
        "colab_type": "code",
        "colab": {}
      },
      "source": [
        "from nltk.stem import *\n",
        "from nltk.corpus import stopwords\n",
        "\n",
        "# sample = pd.read_csv('C:\\\\Users\\\\afy36\\\\Desktop\\\\cmps 287\\\\project\\\\sample_tweet.csv', encoding='iso-8859-1')\n",
        "# sample_X = sample[\"content\"]\n",
        "def remove_punctuation(words):\n",
        "    \"\"\"Remove punctuation from list of tokenized words\"\"\"\n",
        "    processedTweets = []\n",
        "    for word in words:\n",
        "        new_word = re.sub(r'[^\\w\\s]', '', word)\n",
        "        if new_word != '':\n",
        "            processedTweets.append(new_word)\n",
        "    return processedTweets\n",
        "\n",
        "\n",
        "def remove_un(words):\n",
        "    \"\"\"Remove punctuation from list of tokenized words\"\"\"\n",
        "    processedTweets = []\n",
        "    for word in words: \n",
        "        new_word = new_word = re.sub('@[^\\s]+','',word)#remove un\n",
        "        if new_word != '':\n",
        "            processedTweets.append(new_word)\n",
        "    return processedTweets\n",
        "\n",
        "def remove_http(words):\n",
        "    \"\"\"Remove punctuation from list of tokenized words\"\"\"\n",
        "    processedTweets = []\n",
        "    for word in words: \n",
        "        new_word = re.sub('((www\\.[^\\s]+)|(https?[^\\s]+))', '', word) # remove URLs\n",
        "        if new_word != '':\n",
        "            processedTweets.append(new_word)\n",
        "    return processedTweets\n",
        "\n",
        "\n",
        "def lemmatize_verbs(words):\n",
        "    \"\"\"Lemmatize verbs in list of tokenized words\"\"\"\n",
        "    lemmatizer = WordNetLemmatizer()\n",
        "    processedTweets = []\n",
        "    for word in words:\n",
        "        lemma = lemmatizer.lemmatize(word, pos='v')\n",
        "        processedTweets.append(lemma)\n",
        "    return processedTweets\n",
        "    \n",
        "def remove_non_ascii(words):\n",
        "    \"\"\"Remove non-ASCII characters from list of tokenized words\"\"\"\n",
        "    processedTweets = []\n",
        "    for word in words:\n",
        "        new_word = unicodedata.normalize('NFKD', word).encode('ascii', 'ignore').decode('utf-8', 'ignore')\n",
        "        processedTweets.append(new_word)\n",
        "    return processedTweets\n",
        " \n",
        "\n",
        "stopwords = stopwords.words('english')\n",
        "stemmer = PorterStemmer()\n",
        "def processdata(data):\n",
        "    new_data  = [] \n",
        "    for tweet in data:\n",
        "        words = tweet.split(' ')\n",
        "        new_sentence = \"\"\n",
        "        collectedstopwords=\"\"\n",
        "#         tweet = remove_non_ascii(tweet)\n",
        "        tweet = lemmatize_verbs(tweet)\n",
        "#         tweet = remove_punctuation(tweet)\n",
        "        for word in words:\n",
        "            if word not in stopwords:\n",
        "                new_sentence+= stemmer.stem(word) + \" \"\n",
        "                new_sentence = new_sentence.lower() # convert text to lower-case\n",
        "                new_sentence = re.sub(r'#([^\\s]+)', r'\\1', new_sentence) # remove the # in #hashtag\n",
        "                new_sentence = re.sub('\\[[^]]*\\]', '', new_sentence) \n",
        "            else:\n",
        "                collectedstopwords += word +\" \"\n",
        "#                 uncomment below to view collected stop words\n",
        "#         print(collectedstopwords)\n",
        "        new_data.append(new_sentence)\n",
        "    return new_data\n",
        "\n",
        "\n",
        "# x = np.asarray(remove_non_ascii(x))\n",
        "train_x = np.asarray(remove_non_ascii(train_x))\n",
        "# print(np.shape(x_train))\n",
        "# x_train\n",
        "test_x = np.asarray(remove_non_ascii(test_x))"
      ],
      "execution_count": 0,
      "outputs": []
    },
    {
      "cell_type": "code",
      "metadata": {
        "id": "ePDZMp5UACLW",
        "colab_type": "code",
        "colab": {}
      },
      "source": [
        "np.savetxt('x_removenonascii.txt', train_x, fmt='%s')"
      ],
      "execution_count": 0,
      "outputs": []
    },
    {
      "cell_type": "code",
      "metadata": {
        "id": "PTXTeaViACLY",
        "colab_type": "code",
        "colab": {}
      },
      "source": [
        "np.savetxt('test_x.txt', test_x, fmt='%s',newline='')"
      ],
      "execution_count": 0,
      "outputs": []
    },
    {
      "cell_type": "code",
      "metadata": {
        "id": "bZZ5fHnLACLa",
        "colab_type": "code",
        "colab": {}
      },
      "source": [
        "with open (\"x_removenonascii.txt\", \"r\",newline='') as myfile:\n",
        "    train_x = myfile.readlines()\n",
        "train_x = np.asarray(remove_http(train_x))\n",
        "np.savetxt('x_nonasci_http.txt', train_x,fmt='%s',delimiter ='',newline='')"
      ],
      "execution_count": 0,
      "outputs": []
    },
    {
      "cell_type": "code",
      "metadata": {
        "id": "poJ8Pj3KACLc",
        "colab_type": "code",
        "outputId": "4f4b2a32-e9ef-442b-aab4-1e9823198f76",
        "colab": {}
      },
      "source": [
        "np.shape(train_x)"
      ],
      "execution_count": 0,
      "outputs": [
        {
          "output_type": "execute_result",
          "data": {
            "text/plain": [
              "(315000,)"
            ]
          },
          "metadata": {
            "tags": []
          },
          "execution_count": 11
        }
      ]
    },
    {
      "cell_type": "code",
      "metadata": {
        "id": "ntwcc00nACLe",
        "colab_type": "code",
        "colab": {}
      },
      "source": [
        "with open (\"x_nonasci_http.txt\", \"r\",newline='') as myfile:\n",
        "    train_x=myfile.readlines()\n",
        "train_x = np.asarray(remove_un(train_x))\n",
        "np.savetxt('x_nonasci_http_un.txt', train_x,fmt='%s',delimiter ='',newline='')\n"
      ],
      "execution_count": 0,
      "outputs": []
    },
    {
      "cell_type": "code",
      "metadata": {
        "id": "DdcisCDLACLg",
        "colab_type": "code",
        "outputId": "8c86302b-992a-4ac1-9f62-cef0ea777784",
        "colab": {}
      },
      "source": [
        "np.shape(train_x)"
      ],
      "execution_count": 0,
      "outputs": [
        {
          "output_type": "execute_result",
          "data": {
            "text/plain": [
              "(315000,)"
            ]
          },
          "metadata": {
            "tags": []
          },
          "execution_count": 13
        }
      ]
    },
    {
      "cell_type": "code",
      "metadata": {
        "id": "hc-1vS-JACLi",
        "colab_type": "code",
        "colab": {}
      },
      "source": [
        "with open (\"x_nonasci_http_un.txt\", \"r\",newline='') as myfile:\n",
        "    traain_x=myfile.readlines()\n",
        "train_x = np.asarray(remove_punctuation(train_x))\n",
        "np.savetxt('x_nonasci_http_un_pun.txt', train_x,fmt='%s',delimiter ='',newline='')"
      ],
      "execution_count": 0,
      "outputs": []
    },
    {
      "cell_type": "code",
      "metadata": {
        "id": "dABrm-6lACLj",
        "colab_type": "code",
        "outputId": "dd638ad1-1221-4a2a-9e93-7a6b17d755ba",
        "colab": {}
      },
      "source": [
        "np.shape(train_x)"
      ],
      "execution_count": 0,
      "outputs": [
        {
          "output_type": "execute_result",
          "data": {
            "text/plain": [
              "(315000,)"
            ]
          },
          "metadata": {
            "tags": []
          },
          "execution_count": 15
        }
      ]
    },
    {
      "cell_type": "code",
      "metadata": {
        "id": "JlCon97AACLl",
        "colab_type": "code",
        "colab": {}
      },
      "source": [
        "with open (\"x_nonasci_http_un_pun.txt\", \"r\",newline='') as myfile:\n",
        "    train_x=myfile.readlines()\n",
        "train_x = np.asarray(processdata(train_x))\n",
        "np.savetxt('x_cleaned.txt', train_x,fmt='%s',delimiter ='',newline='')"
      ],
      "execution_count": 0,
      "outputs": []
    },
    {
      "cell_type": "code",
      "metadata": {
        "id": "Pq79B9uxACLn",
        "colab_type": "code",
        "outputId": "aa5a569e-7816-46ad-d65d-55c152baa870",
        "colab": {}
      },
      "source": [
        "np.shape(train_x)"
      ],
      "execution_count": 0,
      "outputs": [
        {
          "output_type": "execute_result",
          "data": {
            "text/plain": [
              "(315000,)"
            ]
          },
          "metadata": {
            "tags": []
          },
          "execution_count": 17
        }
      ]
    },
    {
      "cell_type": "markdown",
      "metadata": {
        "id": "kGaGkwEFACLq",
        "colab_type": "text"
      },
      "source": [
        "## Training \n",
        "start running here"
      ]
    },
    {
      "cell_type": "code",
      "metadata": {
        "id": "qUUmwUZ7ACLq",
        "colab_type": "code",
        "colab": {}
      },
      "source": [
        "import keras\n",
        "from keras.models import Model\n",
        "from keras.layers import LSTM, Activation, Dense, Dropout, Input, Embedding\n",
        "from keras.optimizers import RMSprop\n",
        "from keras.preprocessing.text import Tokenizer\n",
        "from keras.preprocessing import sequence\n",
        "from keras.utils import to_categorical\n",
        "from keras.callbacks import EarlyStopping\n",
        "from sklearn.utils import shuffle\n",
        "%matplotlib inline"
      ],
      "execution_count": 0,
      "outputs": []
    },
    {
      "cell_type": "code",
      "metadata": {
        "id": "QDlPJuYyACLs",
        "colab_type": "code",
        "colab": {}
      },
      "source": [
        "# with open (\"x_train_cleaned.txt\", \"r\",newline='') as myfile:\n",
        "#     x_train = myfile.readlines()\n",
        "    \n",
        "# with open (\"x_val_cleaned.txt\", \"r\",newline='') as myfile:\n",
        "#     x_val = myfile.readlines()\n",
        "\n",
        "with open (\"/content/drive/My Drive/train_y.txt\", \"r\",newline='') as myfile:\n",
        "    train_y = myfile.readlines()\n",
        "    \n",
        "with open (\"/content/drive/My Drive/x_cleaned.txt\", \"r\",newline='') as myfile:\n",
        "    train_x = myfile.readlines()\n",
        "# with open (\"y_val.txt\", \"r\",newline='') as myfile:\n",
        "#     y_val = myfile.readlines()\n",
        "\n",
        "# # print(np.shape(y_val))\n",
        "# # print(np.shape(y_train))\n",
        "# # print(np.shape(x_val))\n",
        "# le = LabelEncoder()\n",
        "# y = le.fit_transform(y)\n",
        "# print(y)\n",
        "# train_x, test_x, train_y, test_y = train_test_split(x, y, test_size=0.10)\n",
        "# print(np.shape(test_y))\n",
        "# print(np.shape(train_y))\n",
        "# print(np.shape(test_x))"
      ],
      "execution_count": 0,
      "outputs": []
    },
    {
      "cell_type": "code",
      "metadata": {
        "id": "M5eU9dkrACLt",
        "colab_type": "code",
        "outputId": "22e40eb4-34c9-41e3-bff9-92eff6f422e9",
        "colab": {
          "base_uri": "https://localhost:8080/",
          "height": 365
        }
      },
      "source": [
        "import seaborn as sns\n",
        "sns.countplot(data.label)\n",
        "plt.xlabel('Label')\n",
        "plt.title('Breakdown by label type')"
      ],
      "execution_count": 0,
      "outputs": [
        {
          "output_type": "stream",
          "text": [
            "/usr/local/lib/python3.6/dist-packages/statsmodels/tools/_testing.py:19: FutureWarning: pandas.util.testing is deprecated. Use the functions in the public API at pandas.testing instead.\n",
            "  import pandas.util.testing as tm\n"
          ],
          "name": "stderr"
        },
        {
          "output_type": "execute_result",
          "data": {
            "text/plain": [
              "Text(0.5, 1.0, 'Breakdown by label type')"
            ]
          },
          "metadata": {
            "tags": []
          },
          "execution_count": 6
        },
        {
          "output_type": "display_data",
          "data": {
            "image/png": "[encoded data removed]",
            "text/plain": [
              "<Figure size 432x288 with 1 Axes>"
            ]
          },
          "metadata": {
            "tags": [],
            "needs_background": "light"
          }
        }
      ]
    },
    {
      "cell_type": "code",
      "metadata": {
        "id": "5i5IbN7iACLv",
        "colab_type": "code",
        "colab": {}
      },
      "source": [
        "maxlen = 150\n",
        "token = Tokenizer()\n",
        "token.fit_on_texts(data['content'])\n",
        "sequences = token.texts_to_sequences(train_x)\n",
        "padded = sequence.pad_sequences(sequences, maxlen=maxlen,padding=\"post\")"
      ],
      "execution_count": 0,
      "outputs": []
    },
    {
      "cell_type": "code",
      "metadata": {
        "id": "kNtJCZcfACLx",
        "colab_type": "code",
        "outputId": "72b11015-3433-4519-b32b-a6224d26c401",
        "colab": {
          "base_uri": "https://localhost:8080/",
          "height": 50
        }
      },
      "source": [
        "vocab_size = len(token.word_index)+1\n",
        "print(vocab_size)\n",
        "print(np.shape(padded),np.shape(train_y))"
      ],
      "execution_count": 7,
      "outputs": [
        {
          "output_type": "stream",
          "text": [
            "406636\n",
            "(315000, 150) (315000,)\n"
          ],
          "name": "stdout"
        }
      ]
    },
    {
      "cell_type": "code",
      "metadata": {
        "id": "8BcSG_e2ACLz",
        "colab_type": "code",
        "colab": {}
      },
      "source": [
        "embedding_index = dict()\n",
        "f = open('/content/drive/My Drive/glove.twitter.27B.50d.txt',encoding='utf-8')"
      ],
      "execution_count": 0,
      "outputs": []
    },
    {
      "cell_type": "code",
      "metadata": {
        "id": "MX_NCGk8ACL0",
        "colab_type": "code",
        "colab": {}
      },
      "source": [
        "for line in f:\n",
        "    values = line.split(\" \")\n",
        "    word = values[0]\n",
        "    coef = np.asarray(values[1:],dtype='float32')\n",
        "    embedding_index[word] = coef"
      ],
      "execution_count": 0,
      "outputs": []
    },
    {
      "cell_type": "code",
      "metadata": {
        "id": "SRcvyljNACL3",
        "colab_type": "code",
        "colab": {}
      },
      "source": [
        "embedding_matrix = np.zeros((vocab_size,50))"
      ],
      "execution_count": 0,
      "outputs": []
    },
    {
      "cell_type": "code",
      "metadata": {
        "id": "cMQirEtjACL5",
        "colab_type": "code",
        "colab": {}
      },
      "source": [
        "for word,i in token.word_index.items():\n",
        "    embedding_vector = embedding_index.get(word)\n",
        "    if embedding_vector is not None:\n",
        "        embedding_matrix[i] = embedding_vector"
      ],
      "execution_count": 0,
      "outputs": []
    },
    {
      "cell_type": "code",
      "metadata": {
        "id": "zrjs9bQaACL7",
        "colab_type": "code",
        "outputId": "c84bd8e6-6dfa-47ef-d592-db7b14cc28e6",
        "colab": {
          "base_uri": "https://localhost:8080/",
          "height": 33
        }
      },
      "source": [
        "print(np.shape(embedding_matrix))"
      ],
      "execution_count": 12,
      "outputs": [
        {
          "output_type": "stream",
          "text": [
            "(406636, 50)\n"
          ],
          "name": "stdout"
        }
      ]
    },
    {
      "cell_type": "code",
      "metadata": {
        "id": "TxZ8eKnKACL9",
        "colab_type": "code",
        "outputId": "43f8adb4-7570-4d55-bac0-2e6bc7e7a464",
        "colab": {
          "base_uri": "https://localhost:8080/",
          "height": 419
        }
      },
      "source": [
        "import pandas as pd\n",
        "import numpy as np\n",
        "import matplotlib.pyplot as plt\n",
        "import seaborn as sns\n",
        "from sklearn.model_selection import train_test_split\n",
        "from sklearn.preprocessing import LabelEncoder\n",
        "import keras\n",
        "from keras.models import Model\n",
        "from keras.layers import LSTM, Activation, Dense, Dropout, Input, Embedding\n",
        "from keras.optimizers import RMSprop\n",
        "from keras.preprocessing.text import Tokenizer\n",
        "from keras.preprocessing import sequence\n",
        "from keras.utils import to_categorical\n",
        "from keras.callbacks import EarlyStopping\n",
        "from sklearn.utils import shuffle\n",
        "\n",
        "\n",
        "def make_rnn():\n",
        "    inputs = Input(name='inputs',shape=[maxlen])\n",
        "    layer = Embedding(vocab_size ,50,weights=[embedding_matrix],input_length=maxlen,mask_zero=True)(inputs)\n",
        "    layer = LSTM(100)(layer)\n",
        "    layer = Dense(256,name='FC1')(layer)\n",
        "    layer = Activation('relu')(layer)\n",
        "    layer = Dropout(0.1)(layer)\n",
        "    layer = Dense(1,name='out_layer')(layer)\n",
        "    layer = Activation('sigmoid')(layer)\n",
        "    model = Model(inputs=inputs,outputs=layer)\n",
        "    return model\n",
        "\n",
        "model = make_rnn()\n",
        "model.summary()\n",
        "model.compile(loss='binary_crossentropy',optimizer=RMSprop(lr=0.0001),metrics=['accuracy'])"
      ],
      "execution_count": 15,
      "outputs": [
        {
          "output_type": "stream",
          "text": [
            "Model: \"model_2\"\n",
            "_________________________________________________________________\n",
            "Layer (type)                 Output Shape              Param #   \n",
            "=================================================================\n",
            "inputs (InputLayer)          (None, 150)               0         \n",
            "_________________________________________________________________\n",
            "embedding_2 (Embedding)      (None, 150, 50)           20331800  \n",
            "_________________________________________________________________\n",
            "lstm_2 (LSTM)                (None, 100)               60400     \n",
            "_________________________________________________________________\n",
            "FC1 (Dense)                  (None, 256)               25856     \n",
            "_________________________________________________________________\n",
            "activation_3 (Activation)    (None, 256)               0         \n",
            "_________________________________________________________________\n",
            "dropout_2 (Dropout)          (None, 256)               0         \n",
            "_________________________________________________________________\n",
            "out_layer (Dense)            (None, 1)                 257       \n",
            "_________________________________________________________________\n",
            "activation_4 (Activation)    (None, 1)                 0         \n",
            "=================================================================\n",
            "Total params: 20,418,313\n",
            "Trainable params: 20,418,313\n",
            "Non-trainable params: 0\n",
            "_________________________________________________________________\n"
          ],
          "name": "stdout"
        }
      ]
    },
    {
      "cell_type": "code",
      "metadata": {
        "id": "-TjDQ7EeACL_",
        "colab_type": "code",
        "outputId": "d52d23db-1b21-4c85-81c6-63c5bef09755",
        "colab": {
          "base_uri": "https://localhost:8080/",
          "height": 389
        }
      },
      "source": [
        "history = model.fit(padded,np.asarray(train_y),batch_size=128,epochs=9,validation_split=0.1)"
      ],
      "execution_count": 16,
      "outputs": [
        {
          "output_type": "stream",
          "text": [
            "/usr/local/lib/python3.6/dist-packages/tensorflow/python/framework/indexed_slices.py:434: UserWarning: Converting sparse IndexedSlices to a dense Tensor of unknown shape. This may consume a large amount of memory.\n",
            "  \"Converting sparse IndexedSlices to a dense Tensor of unknown shape. \"\n"
          ],
          "name": "stderr"
        },
        {
          "output_type": "stream",
          "text": [
            "Train on 283500 samples, validate on 31500 samples\n",
            "Epoch 1/9\n",
            "283500/283500 [==============================] - 827s 3ms/step - loss: 0.2984 - accuracy: 0.8670 - val_loss: 0.2591 - val_accuracy: 0.8871\n",
            "Epoch 2/9\n",
            "283500/283500 [==============================] - 785s 3ms/step - loss: 0.2451 - accuracy: 0.8922 - val_loss: 0.2360 - val_accuracy: 0.8982\n",
            "Epoch 3/9\n",
            "283500/283500 [==============================] - 784s 3ms/step - loss: 0.2281 - accuracy: 0.9011 - val_loss: 0.2240 - val_accuracy: 0.9042\n",
            "Epoch 4/9\n",
            "283500/283500 [==============================] - 813s 3ms/step - loss: 0.2174 - accuracy: 0.9061 - val_loss: 0.2175 - val_accuracy: 0.9057\n",
            "Epoch 5/9\n",
            "283500/283500 [==============================] - 804s 3ms/step - loss: 0.2103 - accuracy: 0.9091 - val_loss: 0.2118 - val_accuracy: 0.9087\n",
            "Epoch 6/9\n",
            "283500/283500 [==============================] - 798s 3ms/step - loss: 0.2047 - accuracy: 0.9118 - val_loss: 0.2080 - val_accuracy: 0.9112\n",
            "Epoch 7/9\n",
            "283500/283500 [==============================] - 788s 3ms/step - loss: 0.2004 - accuracy: 0.9139 - val_loss: 0.2069 - val_accuracy: 0.9120\n",
            "Epoch 8/9\n",
            "283500/283500 [==============================] - 786s 3ms/step - loss: 0.1968 - accuracy: 0.9153 - val_loss: 0.2024 - val_accuracy: 0.9136\n",
            "Epoch 9/9\n",
            "283500/283500 [==============================] - 779s 3ms/step - loss: 0.1936 - accuracy: 0.9167 - val_loss: 0.2019 - val_accuracy: 0.9137\n"
          ],
          "name": "stdout"
        }
      ]
    },
    {
      "cell_type": "code",
      "metadata": {
        "id": "BsjOINCoACMH",
        "colab_type": "code",
        "colab": {}
      },
      "source": [
        "with open (\"/content/drive/My Drive/test_x.txt\", \"r\",newline='') as myfile:\n",
        "    test_x = myfile.readlines()\n",
        "\n",
        "with open (\"/content/drive/My Drive/test_y.txt\", \"r\",newline='') as myfile:\n",
        "    test_y = myfile.readlines()\n"
      ],
      "execution_count": 0,
      "outputs": []
    },
    {
      "cell_type": "code",
      "metadata": {
        "id": "fDLfKMFJACMC",
        "colab_type": "code",
        "outputId": "5565cb6c-a27e-48d6-ac6c-9c37531eade2",
        "colab": {
          "base_uri": "https://localhost:8080/",
          "height": 67
        }
      },
      "source": [
        "test_sequences = token.texts_to_sequences(test_x)\n",
        "test_padded = sequence.pad_sequences(test_sequences,maxlen=maxlen)\n",
        "\n",
        "accuracy = model.evaluate(test_padded, np.asarray(test_y))\n",
        "print('Test loss: ', accuracy[0])\n",
        "print('Test accuracy: ', accuracy[1])"
      ],
      "execution_count": 18,
      "outputs": [
        {
          "output_type": "stream",
          "text": [
            "35000/35000 [==============================] - 53s 2ms/step\n",
            "Test loss:  0.22134390973874501\n",
            "Test accuracy:  0.9055142998695374\n"
          ],
          "name": "stdout"
        }
      ]
    },
    {
      "cell_type": "code",
      "metadata": {
        "id": "fG8GS3R9ACME",
        "colab_type": "code",
        "outputId": "e7a69df6-95d1-4066-8056-f1711f052946",
        "colab": {
          "base_uri": "https://localhost:8080/",
          "height": 590
        }
      },
      "source": [
        "\n",
        "print(\"after 9 epochs\")\n",
        "# Plot training & validation accuracy values\n",
        "plt.plot(history.history['accuracy'])\n",
        "plt.plot(history.history['val_accuracy'])\n",
        "plt.title('Model accuracy')\n",
        "plt.ylabel('Accuracy')\n",
        "plt.xlabel('Epoch')\n",
        "plt.legend(['Train', 'Validation'], loc='upper left')\n",
        "plt.show()\n",
        "\n",
        "# Plot training & validation loss values\n",
        "plt.plot(history.history['loss'])\n",
        "plt.plot(history.history['val_loss'])\n",
        "plt.title('Model loss')\n",
        "plt.ylabel('Loss')\n",
        "plt.xlabel('Epoch')\n",
        "plt.legend(['Train', 'Validation'], loc='upper left')\n",
        "plt.show()\n",
        "\n"
      ],
      "execution_count": 19,
      "outputs": [
        {
          "output_type": "stream",
          "text": [
            "after 9 epochs\n"
          ],
          "name": "stdout"
        },
        {
          "output_type": "display_data",
          "data": {
            "image/png": "[encoded data removed]",
            "text/plain": [
              "<Figure size 432x288 with 1 Axes>"
            ]
          },
          "metadata": {
            "tags": [],
            "needs_background": "light"
          }
        },
        {
          "output_type": "display_data",
          "data": {
            "image/png": "[encoded data removed]",
            "text/plain": [
              "<Figure size 432x288 with 1 Axes>"
            ]
          },
          "metadata": {
            "tags": [],
            "needs_background": "light"
          }
        }
      ]
    },
    {
      "cell_type": "code",
      "metadata": {
        "id": "QzOXkiDEsZas",
        "colab_type": "code",
        "colab": {}
      },
      "source": [
        "model.save(\"final_287_bestmodel.h5\")"
      ],
      "execution_count": 0,
      "outputs": []
    },
    {
      "cell_type": "code",
      "metadata": {
        "id": "nN4u01Y-tMsa",
        "colab_type": "code",
        "colab": {
          "base_uri": "https://localhost:8080/",
          "height": 390
        },
        "outputId": "dea58642-349b-4115-dbda-5ca43f918b56"
      },
      "source": [
        "from sklearn.metrics import confusion_matrix\n",
        "y_pred = model.predict(test_padded)\n",
        "print(y_pred)\n",
        "# results = confusion_matrix(np.asarray(test_y), y_pred.round()) \n",
        "# print(results)"
      ],
      "execution_count": 30,
      "outputs": [
        {
          "output_type": "error",
          "ename": "KeyboardInterrupt",
          "evalue": "ignored",
          "traceback": [
            "\u001b[0;31m---------------------------------------------------------------------------\u001b[0m",
            "\u001b[0;31mKeyboardInterrupt\u001b[0m                         Traceback (most recent call last)",
            "\u001b[0;32m<ipython-input-30-d21861289408>\u001b[0m in \u001b[0;36m<module>\u001b[0;34m()\u001b[0m\n\u001b[1;32m      1\u001b[0m \u001b[0;32mfrom\u001b[0m \u001b[0msklearn\u001b[0m\u001b[0;34m.\u001b[0m\u001b[0mmetrics\u001b[0m \u001b[0;32mimport\u001b[0m \u001b[0mconfusion_matrix\u001b[0m\u001b[0;34m\u001b[0m\u001b[0;34m\u001b[0m\u001b[0m\n\u001b[0;32m----> 2\u001b[0;31m \u001b[0my_pred\u001b[0m \u001b[0;34m=\u001b[0m \u001b[0mmodel\u001b[0m\u001b[0;34m.\u001b[0m\u001b[0mpredict\u001b[0m\u001b[0;34m(\u001b[0m\u001b[0mtest_padded\u001b[0m\u001b[0;34m)\u001b[0m\u001b[0;34m\u001b[0m\u001b[0;34m\u001b[0m\u001b[0m\n\u001b[0m\u001b[1;32m      3\u001b[0m \u001b[0my_pred\u001b[0m \u001b[0;34m=\u001b[0m \u001b[0my_pred\u001b[0m \u001b[0;34m>\u001b[0m \u001b[0;36m0.5\u001b[0m\u001b[0;34m\u001b[0m\u001b[0;34m\u001b[0m\u001b[0m\n\u001b[1;32m      4\u001b[0m \u001b[0mprint\u001b[0m\u001b[0;34m(\u001b[0m\u001b[0my_pred\u001b[0m\u001b[0;34m)\u001b[0m\u001b[0;34m\u001b[0m\u001b[0;34m\u001b[0m\u001b[0m\n\u001b[1;32m      5\u001b[0m \u001b[0;31m# results = confusion_matrix(np.asarray(test_y), y_pred.round())\u001b[0m\u001b[0;34m\u001b[0m\u001b[0;34m\u001b[0m\u001b[0;34m\u001b[0m\u001b[0m\n",
            "\u001b[0;32m/usr/local/lib/python3.6/dist-packages/keras/engine/training.py\u001b[0m in \u001b[0;36mpredict\u001b[0;34m(self, x, batch_size, verbose, steps, callbacks, max_queue_size, workers, use_multiprocessing)\u001b[0m\n\u001b[1;32m   1460\u001b[0m                                             \u001b[0mverbose\u001b[0m\u001b[0;34m=\u001b[0m\u001b[0mverbose\u001b[0m\u001b[0;34m,\u001b[0m\u001b[0;34m\u001b[0m\u001b[0;34m\u001b[0m\u001b[0m\n\u001b[1;32m   1461\u001b[0m                                             \u001b[0msteps\u001b[0m\u001b[0;34m=\u001b[0m\u001b[0msteps\u001b[0m\u001b[0;34m,\u001b[0m\u001b[0;34m\u001b[0m\u001b[0;34m\u001b[0m\u001b[0m\n\u001b[0;32m-> 1462\u001b[0;31m                                             callbacks=callbacks)\n\u001b[0m\u001b[1;32m   1463\u001b[0m \u001b[0;34m\u001b[0m\u001b[0m\n\u001b[1;32m   1464\u001b[0m     def train_on_batch(self, x, y,\n",
            "\u001b[0;32m/usr/local/lib/python3.6/dist-packages/keras/engine/training_arrays.py\u001b[0m in \u001b[0;36mpredict_loop\u001b[0;34m(model, f, ins, batch_size, verbose, steps, callbacks)\u001b[0m\n\u001b[1;32m    322\u001b[0m             \u001b[0mbatch_logs\u001b[0m \u001b[0;34m=\u001b[0m \u001b[0;34m{\u001b[0m\u001b[0;34m'batch'\u001b[0m\u001b[0;34m:\u001b[0m \u001b[0mbatch_index\u001b[0m\u001b[0;34m,\u001b[0m \u001b[0;34m'size'\u001b[0m\u001b[0;34m:\u001b[0m \u001b[0mlen\u001b[0m\u001b[0;34m(\u001b[0m\u001b[0mbatch_ids\u001b[0m\u001b[0;34m)\u001b[0m\u001b[0;34m}\u001b[0m\u001b[0;34m\u001b[0m\u001b[0;34m\u001b[0m\u001b[0m\n\u001b[1;32m    323\u001b[0m             \u001b[0mcallbacks\u001b[0m\u001b[0;34m.\u001b[0m\u001b[0m_call_batch_hook\u001b[0m\u001b[0;34m(\u001b[0m\u001b[0;34m'predict'\u001b[0m\u001b[0;34m,\u001b[0m \u001b[0;34m'begin'\u001b[0m\u001b[0;34m,\u001b[0m \u001b[0mbatch_index\u001b[0m\u001b[0;34m,\u001b[0m \u001b[0mbatch_logs\u001b[0m\u001b[0;34m)\u001b[0m\u001b[0;34m\u001b[0m\u001b[0;34m\u001b[0m\u001b[0m\n\u001b[0;32m--> 324\u001b[0;31m             \u001b[0mbatch_outs\u001b[0m \u001b[0;34m=\u001b[0m \u001b[0mf\u001b[0m\u001b[0;34m(\u001b[0m\u001b[0mins_batch\u001b[0m\u001b[0;34m)\u001b[0m\u001b[0;34m\u001b[0m\u001b[0;34m\u001b[0m\u001b[0m\n\u001b[0m\u001b[1;32m    325\u001b[0m             \u001b[0mbatch_outs\u001b[0m \u001b[0;34m=\u001b[0m \u001b[0mto_list\u001b[0m\u001b[0;34m(\u001b[0m\u001b[0mbatch_outs\u001b[0m\u001b[0;34m)\u001b[0m\u001b[0;34m\u001b[0m\u001b[0;34m\u001b[0m\u001b[0m\n\u001b[1;32m    326\u001b[0m             \u001b[0;32mif\u001b[0m \u001b[0mbatch_index\u001b[0m \u001b[0;34m==\u001b[0m \u001b[0;36m0\u001b[0m\u001b[0;34m:\u001b[0m\u001b[0;34m\u001b[0m\u001b[0;34m\u001b[0m\u001b[0m\n",
            "\u001b[0;32m/usr/local/lib/python3.6/dist-packages/tensorflow/python/keras/backend.py\u001b[0m in \u001b[0;36m__call__\u001b[0;34m(self, inputs)\u001b[0m\n\u001b[1;32m   3790\u001b[0m         \u001b[0mvalue\u001b[0m \u001b[0;34m=\u001b[0m \u001b[0mmath_ops\u001b[0m\u001b[0;34m.\u001b[0m\u001b[0mcast\u001b[0m\u001b[0;34m(\u001b[0m\u001b[0mvalue\u001b[0m\u001b[0;34m,\u001b[0m \u001b[0mtensor\u001b[0m\u001b[0;34m.\u001b[0m\u001b[0mdtype\u001b[0m\u001b[0;34m)\u001b[0m\u001b[0;34m\u001b[0m\u001b[0;34m\u001b[0m\u001b[0m\n\u001b[1;32m   3791\u001b[0m       \u001b[0mconverted_inputs\u001b[0m\u001b[0;34m.\u001b[0m\u001b[0mappend\u001b[0m\u001b[0;34m(\u001b[0m\u001b[0mvalue\u001b[0m\u001b[0;34m)\u001b[0m\u001b[0;34m\u001b[0m\u001b[0;34m\u001b[0m\u001b[0m\n\u001b[0;32m-> 3792\u001b[0;31m     \u001b[0moutputs\u001b[0m \u001b[0;34m=\u001b[0m \u001b[0mself\u001b[0m\u001b[0;34m.\u001b[0m\u001b[0m_graph_fn\u001b[0m\u001b[0;34m(\u001b[0m\u001b[0;34m*\u001b[0m\u001b[0mconverted_inputs\u001b[0m\u001b[0;34m)\u001b[0m\u001b[0;34m\u001b[0m\u001b[0;34m\u001b[0m\u001b[0m\n\u001b[0m\u001b[1;32m   3793\u001b[0m \u001b[0;34m\u001b[0m\u001b[0m\n\u001b[1;32m   3794\u001b[0m     \u001b[0;31m# EagerTensor.numpy() will often make a copy to ensure memory safety.\u001b[0m\u001b[0;34m\u001b[0m\u001b[0;34m\u001b[0m\u001b[0;34m\u001b[0m\u001b[0m\n",
            "\u001b[0;32m/usr/local/lib/python3.6/dist-packages/tensorflow/python/eager/function.py\u001b[0m in \u001b[0;36m__call__\u001b[0;34m(self, *args, **kwargs)\u001b[0m\n\u001b[1;32m   1603\u001b[0m       \u001b[0mTypeError\u001b[0m\u001b[0;34m:\u001b[0m \u001b[0mFor\u001b[0m \u001b[0minvalid\u001b[0m \u001b[0mpositional\u001b[0m\u001b[0;34m/\u001b[0m\u001b[0mkeyword\u001b[0m \u001b[0margument\u001b[0m \u001b[0mcombinations\u001b[0m\u001b[0;34m.\u001b[0m\u001b[0;34m\u001b[0m\u001b[0;34m\u001b[0m\u001b[0m\n\u001b[1;32m   1604\u001b[0m     \"\"\"\n\u001b[0;32m-> 1605\u001b[0;31m     \u001b[0;32mreturn\u001b[0m \u001b[0mself\u001b[0m\u001b[0;34m.\u001b[0m\u001b[0m_call_impl\u001b[0m\u001b[0;34m(\u001b[0m\u001b[0margs\u001b[0m\u001b[0;34m,\u001b[0m \u001b[0mkwargs\u001b[0m\u001b[0;34m)\u001b[0m\u001b[0;34m\u001b[0m\u001b[0;34m\u001b[0m\u001b[0m\n\u001b[0m\u001b[1;32m   1606\u001b[0m \u001b[0;34m\u001b[0m\u001b[0m\n\u001b[1;32m   1607\u001b[0m   \u001b[0;32mdef\u001b[0m \u001b[0m_call_impl\u001b[0m\u001b[0;34m(\u001b[0m\u001b[0mself\u001b[0m\u001b[0;34m,\u001b[0m \u001b[0margs\u001b[0m\u001b[0;34m,\u001b[0m \u001b[0mkwargs\u001b[0m\u001b[0;34m,\u001b[0m \u001b[0mcancellation_manager\u001b[0m\u001b[0;34m=\u001b[0m\u001b[0;32mNone\u001b[0m\u001b[0;34m)\u001b[0m\u001b[0;34m:\u001b[0m\u001b[0;34m\u001b[0m\u001b[0;34m\u001b[0m\u001b[0m\n",
            "\u001b[0;32m/usr/local/lib/python3.6/dist-packages/tensorflow/python/eager/function.py\u001b[0m in \u001b[0;36m_call_impl\u001b[0;34m(self, args, kwargs, cancellation_manager)\u001b[0m\n\u001b[1;32m   1643\u001b[0m       raise TypeError(\"Keyword arguments {} unknown. Expected {}.\".format(\n\u001b[1;32m   1644\u001b[0m           list(kwargs.keys()), list(self._arg_keywords)))\n\u001b[0;32m-> 1645\u001b[0;31m     \u001b[0;32mreturn\u001b[0m \u001b[0mself\u001b[0m\u001b[0;34m.\u001b[0m\u001b[0m_call_flat\u001b[0m\u001b[0;34m(\u001b[0m\u001b[0margs\u001b[0m\u001b[0;34m,\u001b[0m \u001b[0mself\u001b[0m\u001b[0;34m.\u001b[0m\u001b[0mcaptured_inputs\u001b[0m\u001b[0;34m,\u001b[0m \u001b[0mcancellation_manager\u001b[0m\u001b[0;34m)\u001b[0m\u001b[0;34m\u001b[0m\u001b[0;34m\u001b[0m\u001b[0m\n\u001b[0m\u001b[1;32m   1646\u001b[0m \u001b[0;34m\u001b[0m\u001b[0m\n\u001b[1;32m   1647\u001b[0m   \u001b[0;32mdef\u001b[0m \u001b[0m_filtered_call\u001b[0m\u001b[0;34m(\u001b[0m\u001b[0mself\u001b[0m\u001b[0;34m,\u001b[0m \u001b[0margs\u001b[0m\u001b[0;34m,\u001b[0m \u001b[0mkwargs\u001b[0m\u001b[0;34m)\u001b[0m\u001b[0;34m:\u001b[0m\u001b[0;34m\u001b[0m\u001b[0;34m\u001b[0m\u001b[0m\n",
            "\u001b[0;32m/usr/local/lib/python3.6/dist-packages/tensorflow/python/eager/function.py\u001b[0m in \u001b[0;36m_call_flat\u001b[0;34m(self, args, captured_inputs, cancellation_manager)\u001b[0m\n\u001b[1;32m   1744\u001b[0m       \u001b[0;31m# No tape is watching; skip to running the function.\u001b[0m\u001b[0;34m\u001b[0m\u001b[0;34m\u001b[0m\u001b[0;34m\u001b[0m\u001b[0m\n\u001b[1;32m   1745\u001b[0m       return self._build_call_outputs(self._inference_function.call(\n\u001b[0;32m-> 1746\u001b[0;31m           ctx, args, cancellation_manager=cancellation_manager))\n\u001b[0m\u001b[1;32m   1747\u001b[0m     forward_backward = self._select_forward_and_backward_functions(\n\u001b[1;32m   1748\u001b[0m         \u001b[0margs\u001b[0m\u001b[0;34m,\u001b[0m\u001b[0;34m\u001b[0m\u001b[0;34m\u001b[0m\u001b[0m\n",
            "\u001b[0;32m/usr/local/lib/python3.6/dist-packages/tensorflow/python/eager/function.py\u001b[0m in \u001b[0;36mcall\u001b[0;34m(self, ctx, args, cancellation_manager)\u001b[0m\n\u001b[1;32m    596\u001b[0m               \u001b[0minputs\u001b[0m\u001b[0;34m=\u001b[0m\u001b[0margs\u001b[0m\u001b[0;34m,\u001b[0m\u001b[0;34m\u001b[0m\u001b[0;34m\u001b[0m\u001b[0m\n\u001b[1;32m    597\u001b[0m               \u001b[0mattrs\u001b[0m\u001b[0;34m=\u001b[0m\u001b[0mattrs\u001b[0m\u001b[0;34m,\u001b[0m\u001b[0;34m\u001b[0m\u001b[0;34m\u001b[0m\u001b[0m\n\u001b[0;32m--> 598\u001b[0;31m               ctx=ctx)\n\u001b[0m\u001b[1;32m    599\u001b[0m         \u001b[0;32melse\u001b[0m\u001b[0;34m:\u001b[0m\u001b[0;34m\u001b[0m\u001b[0;34m\u001b[0m\u001b[0m\n\u001b[1;32m    600\u001b[0m           outputs = execute.execute_with_cancellation(\n",
            "\u001b[0;32m/usr/local/lib/python3.6/dist-packages/tensorflow/python/eager/execute.py\u001b[0m in \u001b[0;36mquick_execute\u001b[0;34m(op_name, num_outputs, inputs, attrs, ctx, name)\u001b[0m\n\u001b[1;32m     58\u001b[0m     \u001b[0mctx\u001b[0m\u001b[0;34m.\u001b[0m\u001b[0mensure_initialized\u001b[0m\u001b[0;34m(\u001b[0m\u001b[0;34m)\u001b[0m\u001b[0;34m\u001b[0m\u001b[0;34m\u001b[0m\u001b[0m\n\u001b[1;32m     59\u001b[0m     tensors = pywrap_tfe.TFE_Py_Execute(ctx._handle, device_name, op_name,\n\u001b[0;32m---> 60\u001b[0;31m                                         inputs, attrs, num_outputs)\n\u001b[0m\u001b[1;32m     61\u001b[0m   \u001b[0;32mexcept\u001b[0m \u001b[0mcore\u001b[0m\u001b[0;34m.\u001b[0m\u001b[0m_NotOkStatusException\u001b[0m \u001b[0;32mas\u001b[0m \u001b[0me\u001b[0m\u001b[0;34m:\u001b[0m\u001b[0;34m\u001b[0m\u001b[0;34m\u001b[0m\u001b[0m\n\u001b[1;32m     62\u001b[0m     \u001b[0;32mif\u001b[0m \u001b[0mname\u001b[0m \u001b[0;32mis\u001b[0m \u001b[0;32mnot\u001b[0m \u001b[0;32mNone\u001b[0m\u001b[0;34m:\u001b[0m\u001b[0;34m\u001b[0m\u001b[0;34m\u001b[0m\u001b[0m\n",
            "\u001b[0;31mKeyboardInterrupt\u001b[0m: "
          ]
        }
      ]
    },
    {
      "cell_type": "code",
      "metadata": {
        "id": "DMh7NKhRuxr1",
        "colab_type": "code",
        "colab": {
          "base_uri": "https://localhost:8080/",
          "height": 320
        },
        "outputId": "6f137c42-abac-4c51-dfbc-66301d7ab8f2"
      },
      "source": [
        "from sklearn.metrics import classification_report\n",
        "# classification_report(np.asarray(test_y), y_pred.round()) "
      ],
      "execution_count": 28,
      "outputs": [
        {
          "output_type": "error",
          "ename": "ValueError",
          "evalue": "ignored",
          "traceback": [
            "\u001b[0;31m---------------------------------------------------------------------------\u001b[0m",
            "\u001b[0;31mValueError\u001b[0m                                Traceback (most recent call last)",
            "\u001b[0;32m<ipython-input-28-0eb5420a17dd>\u001b[0m in \u001b[0;36m<module>\u001b[0;34m()\u001b[0m\n\u001b[1;32m      1\u001b[0m \u001b[0;32mfrom\u001b[0m \u001b[0msklearn\u001b[0m\u001b[0;34m.\u001b[0m\u001b[0mmetrics\u001b[0m \u001b[0;32mimport\u001b[0m \u001b[0mclassification_report\u001b[0m\u001b[0;34m\u001b[0m\u001b[0;34m\u001b[0m\u001b[0m\n\u001b[0;32m----> 2\u001b[0;31m \u001b[0mclassification_report\u001b[0m\u001b[0;34m(\u001b[0m\u001b[0mnp\u001b[0m\u001b[0;34m.\u001b[0m\u001b[0masarray\u001b[0m\u001b[0;34m(\u001b[0m\u001b[0mtest_y\u001b[0m\u001b[0;34m)\u001b[0m\u001b[0;34m,\u001b[0m \u001b[0my_pred\u001b[0m\u001b[0;34m.\u001b[0m\u001b[0mround\u001b[0m\u001b[0;34m(\u001b[0m\u001b[0;34m)\u001b[0m\u001b[0;34m)\u001b[0m\u001b[0;34m\u001b[0m\u001b[0;34m\u001b[0m\u001b[0m\n\u001b[0m",
            "\u001b[0;32m/usr/local/lib/python3.6/dist-packages/sklearn/metrics/_classification.py\u001b[0m in \u001b[0;36mclassification_report\u001b[0;34m(y_true, y_pred, labels, target_names, sample_weight, digits, output_dict, zero_division)\u001b[0m\n\u001b[1;32m   1973\u001b[0m     \u001b[0mlabels_given\u001b[0m \u001b[0;34m=\u001b[0m \u001b[0;32mTrue\u001b[0m\u001b[0;34m\u001b[0m\u001b[0;34m\u001b[0m\u001b[0m\n\u001b[1;32m   1974\u001b[0m     \u001b[0;32mif\u001b[0m \u001b[0mlabels\u001b[0m \u001b[0;32mis\u001b[0m \u001b[0;32mNone\u001b[0m\u001b[0;34m:\u001b[0m\u001b[0;34m\u001b[0m\u001b[0;34m\u001b[0m\u001b[0m\n\u001b[0;32m-> 1975\u001b[0;31m         \u001b[0mlabels\u001b[0m \u001b[0;34m=\u001b[0m \u001b[0munique_labels\u001b[0m\u001b[0;34m(\u001b[0m\u001b[0my_true\u001b[0m\u001b[0;34m,\u001b[0m \u001b[0my_pred\u001b[0m\u001b[0;34m)\u001b[0m\u001b[0;34m\u001b[0m\u001b[0;34m\u001b[0m\u001b[0m\n\u001b[0m\u001b[1;32m   1976\u001b[0m         \u001b[0mlabels_given\u001b[0m \u001b[0;34m=\u001b[0m \u001b[0;32mFalse\u001b[0m\u001b[0;34m\u001b[0m\u001b[0;34m\u001b[0m\u001b[0m\n\u001b[1;32m   1977\u001b[0m     \u001b[0;32melse\u001b[0m\u001b[0;34m:\u001b[0m\u001b[0;34m\u001b[0m\u001b[0;34m\u001b[0m\u001b[0m\n",
            "\u001b[0;32m/usr/local/lib/python3.6/dist-packages/sklearn/utils/multiclass.py\u001b[0m in \u001b[0;36munique_labels\u001b[0;34m(*ys)\u001b[0m\n\u001b[1;32m     98\u001b[0m     \u001b[0;31m# Check that we don't mix string type with number type\u001b[0m\u001b[0;34m\u001b[0m\u001b[0;34m\u001b[0m\u001b[0;34m\u001b[0m\u001b[0m\n\u001b[1;32m     99\u001b[0m     \u001b[0;32mif\u001b[0m \u001b[0;34m(\u001b[0m\u001b[0mlen\u001b[0m\u001b[0;34m(\u001b[0m\u001b[0mset\u001b[0m\u001b[0;34m(\u001b[0m\u001b[0misinstance\u001b[0m\u001b[0;34m(\u001b[0m\u001b[0mlabel\u001b[0m\u001b[0;34m,\u001b[0m \u001b[0mstr\u001b[0m\u001b[0;34m)\u001b[0m \u001b[0;32mfor\u001b[0m \u001b[0mlabel\u001b[0m \u001b[0;32min\u001b[0m \u001b[0mys_labels\u001b[0m\u001b[0;34m)\u001b[0m\u001b[0;34m)\u001b[0m \u001b[0;34m>\u001b[0m \u001b[0;36m1\u001b[0m\u001b[0;34m)\u001b[0m\u001b[0;34m:\u001b[0m\u001b[0;34m\u001b[0m\u001b[0;34m\u001b[0m\u001b[0m\n\u001b[0;32m--> 100\u001b[0;31m         \u001b[0;32mraise\u001b[0m \u001b[0mValueError\u001b[0m\u001b[0;34m(\u001b[0m\u001b[0;34m\"Mix of label input types (string and number)\"\u001b[0m\u001b[0;34m)\u001b[0m\u001b[0;34m\u001b[0m\u001b[0;34m\u001b[0m\u001b[0m\n\u001b[0m\u001b[1;32m    101\u001b[0m \u001b[0;34m\u001b[0m\u001b[0m\n\u001b[1;32m    102\u001b[0m     \u001b[0;32mreturn\u001b[0m \u001b[0mnp\u001b[0m\u001b[0;34m.\u001b[0m\u001b[0marray\u001b[0m\u001b[0;34m(\u001b[0m\u001b[0msorted\u001b[0m\u001b[0;34m(\u001b[0m\u001b[0mys_labels\u001b[0m\u001b[0;34m)\u001b[0m\u001b[0;34m)\u001b[0m\u001b[0;34m\u001b[0m\u001b[0;34m\u001b[0m\u001b[0m\n",
            "\u001b[0;31mValueError\u001b[0m: Mix of label input types (string and number)"
          ]
        }
      ]
    },
    {
      "cell_type": "code",
      "metadata": {
        "id": "HNKuPPbFACMI",
        "colab_type": "code",
        "outputId": "05f9550f-a76f-4326-bc2d-49d33c34bbc4",
        "colab": {
          "base_uri": "https://localhost:8080/",
          "height": 50
        }
      },
      "source": [
        "\n",
        "\n",
        "print(np.shape(test_y))\n",
        "print(np.shape(test_x))\n",
        "\n",
        "\n"
      ],
      "execution_count": 20,
      "outputs": [
        {
          "output_type": "stream",
          "text": [
            "(35000,)\n",
            "(35000,)\n"
          ],
          "name": "stdout"
        }
      ]
    },
    {
      "cell_type": "code",
      "metadata": {
        "id": "bfukZWm5ACMK",
        "colab_type": "code",
        "colab": {}
      },
      "source": [
        "tfidf = TfidfVectorizer()\n",
        "x_train_tfidf = tfidf.fit_transform(train_x)\n",
        "x_test_tfidf = tfidf.transform(test_x)\n",
        "encoder = LabelEncoder()\n",
        "y_train = encoder.fit_transform(train_y)\n",
        "y_test = encoder.transform(test_y)\n"
      ],
      "execution_count": 0,
      "outputs": []
    },
    {
      "cell_type": "code",
      "metadata": {
        "id": "PvUVC3heACMM",
        "colab_type": "code",
        "outputId": "2bd05c0a-5fb9-4d44-d06f-e285cfb097d6",
        "colab": {
          "base_uri": "https://localhost:8080/",
          "height": 603
        }
      },
      "source": [
        "best_f1 = 0\n",
        "best_accuracy = 0\n",
        "best_c = 0\n",
        "\n",
        "for i in [0.001,0.1,1,10,15,100]:\n",
        "    \n",
        "    lr=LogisticRegression(C=i)\n",
        "    lr.fit(x_train_tfidf,y_train)\n",
        "    \n",
        "    y_pred=lr.predict(x_test_tfidf)    \n",
        "    score=f1_score(y_test,y_pred,average = 'macro')\n",
        "    accuracy=accuracy_score(y_test,y_pred)\n",
        "    \n",
        "    if(score>best_f1):\n",
        "        best_f1=score\n",
        "        best_accuracy=accuracy\n",
        "        best_c = i\n",
        "        \n",
        "print(\"best f1: \",best_f1)\n",
        "print(\"best accuracy: \",best_accuracy)\n",
        "print(\"best c: \",best_c)"
      ],
      "execution_count": 22,
      "outputs": [
        {
          "output_type": "stream",
          "text": [
            "/usr/local/lib/python3.6/dist-packages/sklearn/linear_model/_logistic.py:940: ConvergenceWarning: lbfgs failed to converge (status=1):\n",
            "STOP: TOTAL NO. of ITERATIONS REACHED LIMIT.\n",
            "\n",
            "Increase the number of iterations (max_iter) or scale the data as shown in:\n",
            "    https://scikit-learn.org/stable/modules/preprocessing.html\n",
            "Please also refer to the documentation for alternative solver options:\n",
            "    https://scikit-learn.org/stable/modules/linear_model.html#logistic-regression\n",
            "  extra_warning_msg=_LOGISTIC_SOLVER_CONVERGENCE_MSG)\n",
            "/usr/local/lib/python3.6/dist-packages/sklearn/linear_model/_logistic.py:940: ConvergenceWarning: lbfgs failed to converge (status=1):\n",
            "STOP: TOTAL NO. of ITERATIONS REACHED LIMIT.\n",
            "\n",
            "Increase the number of iterations (max_iter) or scale the data as shown in:\n",
            "    https://scikit-learn.org/stable/modules/preprocessing.html\n",
            "Please also refer to the documentation for alternative solver options:\n",
            "    https://scikit-learn.org/stable/modules/linear_model.html#logistic-regression\n",
            "  extra_warning_msg=_LOGISTIC_SOLVER_CONVERGENCE_MSG)\n",
            "/usr/local/lib/python3.6/dist-packages/sklearn/linear_model/_logistic.py:940: ConvergenceWarning: lbfgs failed to converge (status=1):\n",
            "STOP: TOTAL NO. of ITERATIONS REACHED LIMIT.\n",
            "\n",
            "Increase the number of iterations (max_iter) or scale the data as shown in:\n",
            "    https://scikit-learn.org/stable/modules/preprocessing.html\n",
            "Please also refer to the documentation for alternative solver options:\n",
            "    https://scikit-learn.org/stable/modules/linear_model.html#logistic-regression\n",
            "  extra_warning_msg=_LOGISTIC_SOLVER_CONVERGENCE_MSG)\n"
          ],
          "name": "stderr"
        },
        {
          "output_type": "stream",
          "text": [
            "best f1:  0.774079927449207\n",
            "best accuracy:  0.8423142857142857\n",
            "best c:  100\n"
          ],
          "name": "stdout"
        },
        {
          "output_type": "stream",
          "text": [
            "/usr/local/lib/python3.6/dist-packages/sklearn/linear_model/_logistic.py:940: ConvergenceWarning: lbfgs failed to converge (status=1):\n",
            "STOP: TOTAL NO. of ITERATIONS REACHED LIMIT.\n",
            "\n",
            "Increase the number of iterations (max_iter) or scale the data as shown in:\n",
            "    https://scikit-learn.org/stable/modules/preprocessing.html\n",
            "Please also refer to the documentation for alternative solver options:\n",
            "    https://scikit-learn.org/stable/modules/linear_model.html#logistic-regression\n",
            "  extra_warning_msg=_LOGISTIC_SOLVER_CONVERGENCE_MSG)\n"
          ],
          "name": "stderr"
        }
      ]
    }
  ]
}